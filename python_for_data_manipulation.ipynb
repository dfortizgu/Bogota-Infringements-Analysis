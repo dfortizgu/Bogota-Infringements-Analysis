{
 "cells": [
  {
   "cell_type": "markdown",
   "metadata": {},
   "source": [
    "# Data formatting  \n",
    "\n",
    "All files can be found in [this Drive](https://drive.google.com/drive/folders/19jE98GeXH6Ahxp4WmupmGIR6h4r8yjEi?usp=sharing). The scripts and documentation files can be found in [this gitgub](https://github.com/dfortizgu/Google-Capstone-Project.git)\n",
    "\n",
    "Reviewing the original files for the data we find some problems in the CSV files that contain de Infringements (Comparendos_20XX_Bogota.csv). Some of the files have format problems, having line jumps in places where should not be, generating problems for reading this in excel as csv files. For making this process automatic (since we have thousands of this problems in each file) we are going to read each file and generate a new one with the proper format."
   ]
  },
  {
   "cell_type": "code",
   "execution_count": 2,
   "metadata": {},
   "outputs": [
    {
     "name": "stdout",
     "output_type": "stream",
     "text": [
      "File: original_files/Comparendos_2015_Bogota.csv\n",
      "Lines with errors not corrected:  0\n",
      "Corrections:  7368\n",
      "\n",
      "File: original_files/Comparendos_2016_Bogota.csv\n",
      "Lines with errors not corrected:  0\n",
      "Corrections:  14305\n",
      "\n",
      "File: original_files/Comparendos_2017_Bogota.csv\n",
      "Lines with errors not corrected:  0\n",
      "Corrections:  20752\n",
      "\n",
      "File: original_files/Comparendos_2018_Bogota.csv\n",
      "Lines with errors not corrected:  0\n",
      "Corrections:  26489\n",
      "\n",
      "File: original_files/Comparendos_2019_Bogota.csv\n",
      "Lines with errors not corrected:  0\n",
      "Corrections:  17873\n",
      "\n",
      "File: original_files/Comparendos_2020_Bogota.csv\n",
      "Lines with errors not corrected:  0\n",
      "Corrections:  0\n",
      "\n",
      "File: original_files/Comparendos_2021_Bogota.csv\n",
      "Lines with errors not corrected:  0\n",
      "Corrections:  27973\n",
      "\n",
      "Total corrections made:  114760\n"
     ]
    }
   ],
   "source": [
    "import csv\n",
    "import re\n",
    "\n",
    "files_names = [\"original_files/Comparendos_2015_Bogota.csv\", \"original_files/Comparendos_2016_Bogota.csv\", \"original_files/Comparendos_2017_Bogota.csv\",\n",
    "               \"original_files/Comparendos_2018_Bogota.csv\", \"original_files/Comparendos_2019_Bogota.csv\", \"original_files/Comparendos_2020_Bogota.csv\", \"original_files/Comparendos_2021_Bogota.csv\"]\n",
    "\n",
    "\n",
    "#The next code corrects the wrong line jumps inside the csv files.\n",
    "\n",
    "# Regex patter that allows to not consider the commas inside double quotes (\" \") as separators. Regex pattern extracted from https://stackoverflow.com/questions/2785755/how-to-split-but-ignore-separators-in-quoted-strings-in-python\n",
    "\n",
    "PATTERN = re.compile(r'''((?:[^,\"']|\"[^\"]*\"|'[^']*')+)''')\n",
    "\n",
    "\n",
    "#The loop goes file by file searching for the lines with mistakes and correcting them, writing in the \"new_Comparendos_20XX_Bogota.csv\" files the new corrected lines (and the ones that were good)\n",
    "\n",
    "total_corrections = 0\n",
    "\n",
    "for name in files_names:\n",
    "\n",
    "    file = open(name, encoding=\"utf8\")\n",
    "    new_file = open(\"new_\"+name.replace(\"original_files/\", \"\"), \"w\",encoding=\"utf8\", newline=\"\")\n",
    "    write = csv.writer(new_file)\n",
    "\n",
    "\n",
    "    # Remove the \"\\n\" strings which appears explicitly in the final files as we ar using the csv.write to write the new files\n",
    "    columns = file.readline().split(\",\")\n",
    "    columns[-1] = columns[-1].replace(\"\\n\",\"\")\n",
    "\n",
    "    # Take the headers as the max amount of columns the file contains and write them in the new files\n",
    "    num_columns = len(columns)\n",
    "    write.writerow(columns)\n",
    "\n",
    "    #For register lets see the non resolved mistakes (errors) and the ones resolved (correction). All corrections add up to total_corrections variable\n",
    "    errors = 0\n",
    "    corrections = 0\n",
    "\n",
    "    for line in file:\n",
    "        #Split bt the regex pattern \n",
    "        cells = PATTERN.split(line)[1::2]\n",
    "\n",
    "        #Write the lines with the proper amount of columns\n",
    "        if len(cells) == num_columns:\n",
    "            cells[-1] = cells[-1].replace(\"\\n\",\"\")\n",
    "            write.writerow(cells)\n",
    "            continue\n",
    "        \n",
    "\n",
    "        aux = False\n",
    "        # When finding a line with the wrong number of columns, the next line is added until getting the right ampunt of columns for the line\n",
    "        while len(cells) != num_columns:\n",
    "            line = line.replace(\"\\n\",\"\")\n",
    "            line = line + file.readline()\n",
    "            cells = PATTERN.split(line)[1::2]\n",
    "            cells[-1] = cells[-1].replace(\"\\n\",\"\")\n",
    "            if len(cells) == num_columns:\n",
    "                write.writerow(cells)\n",
    "                aux = True\n",
    "                break\n",
    "        \n",
    "        # Once the correction is made, we add to corrections and jump to the nex line to repeat the process\n",
    "        if aux: \n",
    "            corrections += 1\n",
    "            continue\n",
    "        #If the line does not contain the correct number of columns a non corrected error is added\n",
    "        errors += 1\n",
    "\n",
    "    total_corrections += corrections\n",
    "\n",
    "    print(\"File:\", name)      \n",
    "    print(\"Lines with errors not corrected: \",errors)\n",
    "    print(\"Corrections: \",corrections)\n",
    "    print(\"\")\n",
    "\n",
    "    file.close()\n",
    "\n",
    "print(\"Total corrections made: \", total_corrections)"
   ]
  },
  {
   "cell_type": "markdown",
   "metadata": {},
   "source": [
    "For applying the previous code the only file modified manually was \"Comparendos_2019_Bogota.csv\". This file had two errors that were easier to correct this way. \n",
    "1. The first one was a missing value in the LOCALIDAD (location) field for the row with OBJECTID = 20085078. It was filled with \"2-CHAPINERO\", the location corresponding to the latitude and longitude in that row.\n",
    "\n",
    "2. The Second correction was replacing the text\n",
    "\n",
    "        'CONDUCIR EN ESTADO DE EMBRIAGUEZ O BAJO LOS EFECTOS DE SUSTANCIAS ALUCINÓGENAS, SE ATENDERÁ A LO ESTABLECIDO EN EL ARTÍCULO 152 DE ESTE CÓDIGO. SI SE TRATA DE CONDUCTORES DE VEHÍCULOS DE SERVICIO PÚBLICO, DE TRANSPORTE ESCOLAR O DE INSTRUCTOR DE CONDUCCIÓN, LA MULTA PECUNIARIA Y EL PERÍODO DE SUSPENSIÓN DE LA LICENCIA SE DUPLICARÁN.\n",
    "        \"'\n",
    "\n",
    "    with\n",
    "    \n",
    "        '\"'\n",
    "    \n",
    "    since this was a repeated line for which the code was not working and implementing a particular solution was harder and more time consuming than just press \"replace all\" in the text editor.\n",
    "\n",
    "\n",
    "\n"
   ]
  },
  {
   "cell_type": "markdown",
   "metadata": {},
   "source": []
  }
 ],
 "metadata": {
  "kernelspec": {
   "display_name": "Python 3 (ipykernel)",
   "language": "python",
   "name": "python3"
  },
  "language_info": {
   "codemirror_mode": {
    "name": "ipython",
    "version": 3
   },
   "file_extension": ".py",
   "mimetype": "text/x-python",
   "name": "python",
   "nbconvert_exporter": "python",
   "pygments_lexer": "ipython3",
   "version": "3.9.7"
  },
  "vscode": {
   "interpreter": {
    "hash": "ea8238db6dc1fe8cf6fe83219457bde9bcbcde2053d40c59d2e78211d10c5fee"
   }
  }
 },
 "nbformat": 4,
 "nbformat_minor": 2
}
